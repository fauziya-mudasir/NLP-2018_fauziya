{
 "cells": [
  {
   "cell_type": "code",
   "execution_count": 21,
   "metadata": {},
   "outputs": [],
   "source": [
    "from math import *\n",
    "import re"
   ]
  },
  {
   "cell_type": "code",
   "execution_count": 22,
   "metadata": {},
   "outputs": [],
   "source": [
    "def read_reviews(filepath):    \n",
    "    classes={}\n",
    "    total=0\n",
    "    docs=[]\n",
    "    poscount = 0\n",
    "    negcount = 0\n",
    "    with open(filepath, 'r') as doc:\n",
    "        for line in doc:\n",
    "            cleanline=re.sub(r\"['\\n\\t!():;&$?*#^@%+]\",\"\",line.lower())\n",
    "            cleandoc=re.sub(r\"[/,._-]\",\" \",cleanline.lower())\n",
    "            docs.extend(cleandoc.split()[0:-1])\n",
    "            docs=list(set(docs))\n",
    "            \n",
    "            key =int(cleandoc[-1])\n",
    "            if key == 1:\n",
    "                poscount+=1\n",
    "            else:\n",
    "                negcount+=1\n",
    "            if classes.get(key)!= None:\n",
    "                classes[key].extend(cleandoc.split()[0:-1])\n",
    "            else:\n",
    "                classes[key] = cleandoc.split()[0:-1]\n",
    "            total+=1   \n",
    "   \n",
    "    posbag=classes[1]\n",
    "    negbag=classes[0]\n",
    "   \n",
    "    print(\"words in  vocab_unique : {}\".format(len(docs)))\n",
    "   # print(\"Bag of vocab_unique : {}\".format(docs))\n",
    "    print(\"Prior probneg  : {}\".format((negcount)/(total)))\n",
    "    print(\"Prior probpos : {}\".format((poscount)/(total)))\n",
    "    print(\"words in  negclass : {}\".format(len(negbag)))\n",
    "    #print(\"Bag of  negwords : {}\".format(negbag))\n",
    "    print(\"words in  posclass : {}\".format(len(posbag)))\n",
    "   # print(\"Bag of poswords :{}\".format(posbag))\n",
    "   return()\n",
    "  \n",
    "\n",
    "\n",
    "  \n",
    "  "
   ]
  },
  {
   "cell_type": "code",
   "execution_count": 23,
   "metadata": {},
   "outputs": [
    {
     "name": "stdout",
     "output_type": "stream",
     "text": [
      "words in  vocab_unique : 3150\n",
      "Prior probneg  : 0.5\n",
      "Prior probpos : 0.5\n",
      "words in  negclass : 6838\n",
      "words in  posclass : 7642\n"
     ]
    }
   ],
   "source": [
    "read_reviews('imdb_labelled.txt')"
   ]
  },
  {
   "cell_type": "code",
   "execution_count": 24,
   "metadata": {},
   "outputs": [
    {
     "name": "stdout",
     "output_type": "stream",
     "text": [
      "words in  vocab_unique : 2041\n",
      "Prior probneg  : 0.5\n",
      "Prior probpos : 0.5\n",
      "words in  negclass : 5699\n",
      "words in  posclass : 5037\n"
     ]
    }
   ],
   "source": [
    "read_reviews('yelp_labelled.txt')"
   ]
  },
  {
   "cell_type": "code",
   "execution_count": 25,
   "metadata": {},
   "outputs": [
    {
     "name": "stdout",
     "output_type": "stream",
     "text": [
      "words in  vocab_unique : 1868\n",
      "Prior probneg  : 0.5\n",
      "Prior probpos : 0.5\n",
      "words in  negclass : 5279\n",
      "words in  posclass : 4914\n"
     ]
    }
   ],
   "source": [
    "read_reviews('amazon_cells_labelled.txt')"
   ]
  },
  {
   "cell_type": "code",
   "execution_count": null,
   "metadata": {},
   "outputs": [],
   "source": []
  }
 ],
 "metadata": {
  "kernelspec": {
   "display_name": "Python 3",
   "language": "python",
   "name": "python3"
  },
  "language_info": {
   "codemirror_mode": {
    "name": "ipython",
    "version": 3
   },
   "file_extension": ".py",
   "mimetype": "text/x-python",
   "name": "python",
   "nbconvert_exporter": "python",
   "pygments_lexer": "ipython3",
   "version": "3.6.5"
  }
 },
 "nbformat": 4,
 "nbformat_minor": 2
}
