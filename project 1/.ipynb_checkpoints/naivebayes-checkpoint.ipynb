{
 "cells": [
  {
   "cell_type": "code",
   "execution_count": 78,
   "metadata": {},
   "outputs": [],
   "source": [
    "from math import *\n",
    "import re\n",
    "import numpy as np"
   ]
  },
  {
   "cell_type": "code",
   "execution_count": 79,
   "metadata": {},
   "outputs": [],
   "source": [
    "def read_reviews(filepath,textdoc):\n",
    "    \n",
    "    classes={}\n",
    "    total=0\n",
    "    vocablen=0\n",
    "    docs=[]\n",
    "    poscount = 0\n",
    "    negcount = 0\n",
    "    probneg=0\n",
    "    probpos=0\n",
    "    neglen=0\n",
    "    poslen=0\n",
    "    likelihood_sump=0\n",
    "    likelihood_sumn=0\n",
    "    with open(filepath, 'r') as doc:\n",
    "        for line in doc:\n",
    "            cleanline=re.sub(r\"['\\n\\t!():;&$?*#^@+]\",\"\",line.lower())\n",
    "            cleandoc=re.sub(r\"[/,._-]\",\" \",cleanline.lower())\n",
    "            docs.extend(cleandoc.split()[0:-1])\n",
    "            docs=list(set(docs))\n",
    "            \n",
    "            key =int(cleandoc[-1])\n",
    "            if key == 1:\n",
    "                poscount+=1\n",
    "            else:\n",
    "                negcount+=1\n",
    "            if classes.get(key)!= None:\n",
    "                classes[key].extend(cleandoc.split()[0:-1])\n",
    "            else:\n",
    "                classes[key] = [cleandoc.split()[0:-1]]\n",
    "            total+=1\n",
    "    posbag=classes[1]\n",
    "    negbag=classes[0]        \n",
    "    vocablen=len(docs)\n",
    "    probneg=np.log((negcount)/(total))\n",
    "    probpos=np.log((poscount)/(total))\n",
    "    poslen=len(posbag)\n",
    "    neglen=len(negbag)\n",
    "    poslikelihood={}\n",
    "    neglikelihood={}\n",
    "    for i in docs:\n",
    "            likelihoodp=np.log((posbag.count(i)+1)/(poslen + vocablen))\n",
    "            poslikelihood[i]={likelihoodp}\n",
    "            likelihoodn=np.log((negbag.count(i)+1)/(neglen + vocablen))\n",
    "            neglikelihood[i]={likelihoodn}\n",
    "            \n",
    "  \n",
    "    print(\"words in  vocab : {}\".format(len(docs)))\n",
    "    print(\"words in  posbag : {}\".format(poslen))\n",
    "    print(\"words in  negbag : {}\".format(neglen))\n",
    "    #print(\"Bag of vocab : {}\".format(docs))\n",
    "    print(\"Prior probneg  : {}\".format((negcount)/(total)))\n",
    "    print(\"Prior probpos : {}\".format((poscount)/(total)))\n",
    "    #print(\"Bag of  negwords : {}\".format(negbag))\n",
    "    #print(\"Bag of poswords :{}\".format(posbag))\n",
    "    #print(\"likelihood for positiveclass :{}\".format(poslikelihood))\n",
    "    #print(\"likelihood for negativeclass :{}\".format(neglikelihood))\n",
    "   \n",
    "    def testpos(tdoc):\n",
    "        with open(tdoc, 'r') as doc:\n",
    "            for line in doc:\n",
    "                text=re.sub(r\"['\\n\\t!():;&$?*#^@+]\",\"\",line.lower())\n",
    "                cleantext=re.sub(r\"[/,._-]\",\" \",text.lower())\n",
    "                texts=(cleantext.split())\n",
    "                poslike={}\n",
    "                for i in texts:\n",
    "                    likepos=np.log((posbag.count(i)+1)/(poslen + vocablen))\n",
    "                    poslike[i]={likepos}\n",
    "                pvalues =poslike.values()\n",
    "                sum1 =0 \n",
    "                for i in pvalues:\n",
    "                    for r in i:\n",
    "                        sum1 += r\n",
    "                #print(sum1)\n",
    "                likelihood_sump =sum1 *probpos\n",
    "                print(\"The probability that the statement is positive is : {}\".format(likelihood_sump))\n",
    "                return (likelihood_sump)\n",
    "                 \n",
    "    p=testpos(textdoc)\n",
    "    def testneg(tdoc):\n",
    "        with open(tdoc, 'r') as doc:\n",
    "            for line in doc:\n",
    "                text=re.sub(r\"['\\n\\t!():;&$?*#^@+]\",\"\", line.lower())\n",
    "                cleantext=re.sub(r\"[/,._-]\",\" \",text.lower())\n",
    "                texts=(cleantext.split())\n",
    "                neglike={}\n",
    "                for i in texts:\n",
    "                    likeneg=np.log((negbag.count(i)+1)/(neglen + vocablen))\n",
    "                    neglike[i]={likeneg}\n",
    "                nvalues =neglike.values()\n",
    "                sum2 =0 \n",
    "                for i in nvalues:\n",
    "                    for r in i:\n",
    "                        sum2 += r\n",
    "                #print(sum2)\n",
    "                likelihood_sumn =sum2 *probneg\n",
    "                print(\"The probability that the statement is negative is : {}\".format(likelihood_sumn))\n",
    "                return (likelihood_sumn)\n",
    "    n=testneg(textdoc)\n",
    "    \n",
    "    if p > n:\n",
    "        print('The statement is positive')\n",
    "    \n",
    "    else:\n",
    "        print('The statement is negative')\n",
    "    \n",
    "\n",
    "\n",
    "  \n",
    "  "
   ]
  },
  {
   "cell_type": "code",
   "execution_count": null,
   "metadata": {},
   "outputs": [],
   "source": []
  },
  {
   "cell_type": "code",
   "execution_count": 80,
   "metadata": {},
   "outputs": [
    {
     "name": "stdout",
     "output_type": "stream",
     "text": [
      "words in  vocab : 3150\n",
      "words in  posbag : 7622\n",
      "words in  negbag : 6825\n",
      "Prior probneg  : 0.5\n",
      "Prior probpos : 0.5\n",
      "The probability that the statement is positive is : 21.813844666646336\n",
      "The probability that the statement is negative is : 20.035927759304517\n",
      "The statement is negative\n"
     ]
    }
   ],
   "source": [
    "read_reviews('imdb_labelled.txt','textdoc.txt')"
   ]
  },
  {
   "cell_type": "code",
   "execution_count": 81,
   "metadata": {},
   "outputs": [
    {
     "name": "stdout",
     "output_type": "stream",
     "text": [
      "words in  vocab : 2042\n",
      "words in  posbag : 5034\n",
      "words in  negbag : 5696\n",
      "Prior probneg  : 0.5\n",
      "Prior probpos : 0.5\n",
      "The probability that the statement is positive is : 23.320828173587426\n",
      "The probability that the statement is negative is : 22.285073915843977\n",
      "The statement is negative\n"
     ]
    }
   ],
   "source": [
    "read_reviews('yelp_labelled.txt', 'textdoc.txt')"
   ]
  },
  {
   "cell_type": "code",
   "execution_count": 82,
   "metadata": {},
   "outputs": [
    {
     "name": "stdout",
     "output_type": "stream",
     "text": [
      "words in  vocab : 1869\n",
      "words in  posbag : 4911\n",
      "words in  negbag : 5260\n",
      "Prior probneg  : 0.5\n",
      "Prior probpos : 0.5\n",
      "The probability that the statement is positive is : 21.028816744712554\n",
      "The probability that the statement is negative is : 21.392415802697407\n",
      "The statement is negative\n"
     ]
    }
   ],
   "source": [
    "read_reviews('amazon_cells_labelled.txt','textdoc3.txt')"
   ]
  },
  {
   "cell_type": "code",
   "execution_count": null,
   "metadata": {},
   "outputs": [],
   "source": []
  }
 ],
 "metadata": {
  "kernelspec": {
   "display_name": "Python 3",
   "language": "python",
   "name": "python3"
  },
  "language_info": {
   "codemirror_mode": {
    "name": "ipython",
    "version": 3
   },
   "file_extension": ".py",
   "mimetype": "text/x-python",
   "name": "python",
   "nbconvert_exporter": "python",
   "pygments_lexer": "ipython3",
   "version": "3.6.5"
  }
 },
 "nbformat": 4,
 "nbformat_minor": 2
}
